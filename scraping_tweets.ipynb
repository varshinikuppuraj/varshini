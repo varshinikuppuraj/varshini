{
 "cells": [
  {
   "cell_type": "markdown",
   "metadata": {},
   "source": [
    "# Scraping Tweets using Python"
   ]
  },
  {
   "cell_type": "code",
   "execution_count": 12,
   "metadata": {},
   "outputs": [],
   "source": []
  },
  {
   "cell_type": "code",
   "execution_count": 3,
   "metadata": {},
   "outputs": [
    {
     "data": {
      "text/plain": [
       "'3.6.0'"
      ]
     },
     "execution_count": 3,
     "metadata": {},
     "output_type": "execute_result"
    }
   ],
   "source": [
    "import pandas as pd\n",
    "import tweepy\n",
    "\n",
    "tweepy.__version__"
   ]
  },
  {
   "cell_type": "markdown",
   "metadata": {},
   "source": [
    "## Authentication"
   ]
  },
  {
   "cell_type": "code",
   "execution_count": 4,
   "metadata": {},
   "outputs": [],
   "source": [
    "consumer_key = ''\n",
    "consumer_secret = ''\n",
    "access_token = ''\n",
    "access_token_secret = ''"
   ]
  },
  {
   "cell_type": "code",
   "execution_count": 5,
   "metadata": {},
   "outputs": [
    {
     "data": {
      "text/plain": [
       "<tweepy.api.API at 0x10d18b7b8>"
      ]
     },
     "execution_count": 5,
     "metadata": {},
     "output_type": "execute_result"
    }
   ],
   "source": [
    "\n",
    "auth = tweepy.OAuthHandler(consumer_key, consumer_secret)\n",
    "auth.set_access_token(access_token, access_token_secret)\n",
    "\n",
    "# Access Twitter API\n",
    "api = tweepy.API(auth, wait_on_rate_limit=True)\n",
    "api"
   ]
  },
  {
   "cell_type": "markdown",
   "metadata": {},
   "source": [
    "## Get tweets from user timeline"
   ]
  },
  {
   "cell_type": "code",
   "execution_count": 10,
   "metadata": {},
   "outputs": [
    {
     "data": {
      "text/plain": [
       "100"
      ]
     },
     "execution_count": 10,
     "metadata": {},
     "output_type": "execute_result"
    }
   ],
   "source": [
    "tweets_user = api.user_timeline('narendramodi', count=100)\n",
    "len(tweets_user)"
   ]
  },
  {
   "cell_type": "code",
   "execution_count": 11,
   "metadata": {},
   "outputs": [
    {
     "data": {
      "text/plain": [
       "tweepy.models.ResultSet"
      ]
     },
     "execution_count": 11,
     "metadata": {},
     "output_type": "execute_result"
    }
   ],
   "source": [
    "type(tweets_user)"
   ]
  },
  {
   "cell_type": "code",
   "execution_count": 29,
   "metadata": {},
   "outputs": [],
   "source": [
    "tweets = pd.DataFrame(columns=['id', 'created_at', 'likes',\n",
    "                              'retweets', 'text', 'source'])\n",
    "\n",
    "for tweet in tweets_user:\n",
    "    #print(tweet.id, tweet.created_at, tweet.favorite_count, tweet.retweet_count,\n",
    "    #     tweet.text, tweet.source)\n",
    "    curr_tweet = {'id': tweet.id,\n",
    "                 'created_at': tweet.created_at,\n",
    "                 'likes': tweet.favorite_count,\n",
    "                 'retweets': tweet.retweet_count,\n",
    "                 'text': tweet.text,\n",
    "                 'source': tweet.source}\n",
    "    tweets = tweets.append(curr_tweet, ignore_index=True)\n",
    "tweets['created_at'] = tweets['created_at'].astype(str)\n",
    "tweets['created_at'] = pd.to_datetime(tweets['created_at'],\n",
    "                                      format='%Y-%m-%d %H:%M:%S')\n",
    "tweets.to_csv('modi_tweets.csv', index=False)"
   ]
  },
  {
   "cell_type": "code",
   "execution_count": 30,
   "metadata": {},
   "outputs": [
    {
     "data": {
      "text/html": [
       "<div>\n",
       "<style scoped>\n",
       "    .dataframe tbody tr th:only-of-type {\n",
       "        vertical-align: middle;\n",
       "    }\n",
       "\n",
       "    .dataframe tbody tr th {\n",
       "        vertical-align: top;\n",
       "    }\n",
       "\n",
       "    .dataframe thead th {\n",
       "        text-align: right;\n",
       "    }\n",
       "</style>\n",
       "<table border=\"1\" class=\"dataframe\">\n",
       "  <thead>\n",
       "    <tr style=\"text-align: right;\">\n",
       "      <th></th>\n",
       "      <th>id</th>\n",
       "      <th>created_at</th>\n",
       "      <th>likes</th>\n",
       "      <th>retweets</th>\n",
       "      <th>text</th>\n",
       "      <th>source</th>\n",
       "    </tr>\n",
       "  </thead>\n",
       "  <tbody>\n",
       "    <tr>\n",
       "      <th>0</th>\n",
       "      <td>1045882195213262849</td>\n",
       "      <td>2018-09-29 03:45:21</td>\n",
       "      <td>1400</td>\n",
       "      <td>341</td>\n",
       "      <td>Looking forward to interacting with BJP Karyak...</td>\n",
       "      <td>Twitter for Android</td>\n",
       "    </tr>\n",
       "    <tr>\n",
       "      <th>1</th>\n",
       "      <td>1045881287649742848</td>\n",
       "      <td>2018-09-29 03:41:45</td>\n",
       "      <td>1850</td>\n",
       "      <td>449</td>\n",
       "      <td>At 10 AM this morning, I will inaugurate the '...</td>\n",
       "      <td>Twitter for Android</td>\n",
       "    </tr>\n",
       "    <tr>\n",
       "      <th>2</th>\n",
       "      <td>1045686311338692609</td>\n",
       "      <td>2018-09-28 14:46:59</td>\n",
       "      <td>9950</td>\n",
       "      <td>2060</td>\n",
       "      <td>At Jodhpur's Konark War Memorial, paid homage ...</td>\n",
       "      <td>Twitter Web Client</td>\n",
       "    </tr>\n",
       "    <tr>\n",
       "      <th>3</th>\n",
       "      <td>1045685746516951040</td>\n",
       "      <td>2018-09-28 14:44:44</td>\n",
       "      <td>7159</td>\n",
       "      <td>1662</td>\n",
       "      <td>Today in Jodhpur, I attended the Combined Comm...</td>\n",
       "      <td>Twitter Web Client</td>\n",
       "    </tr>\n",
       "    <tr>\n",
       "      <th>4</th>\n",
       "      <td>1045685265312837632</td>\n",
       "      <td>2018-09-28 14:42:49</td>\n",
       "      <td>6137</td>\n",
       "      <td>1656</td>\n",
       "      <td>This video makes me happy- because of the stup...</td>\n",
       "      <td>Twitter Web Client</td>\n",
       "    </tr>\n",
       "  </tbody>\n",
       "</table>\n",
       "</div>"
      ],
      "text/plain": [
       "                    id          created_at likes retweets  \\\n",
       "0  1045882195213262849 2018-09-29 03:45:21  1400      341   \n",
       "1  1045881287649742848 2018-09-29 03:41:45  1850      449   \n",
       "2  1045686311338692609 2018-09-28 14:46:59  9950     2060   \n",
       "3  1045685746516951040 2018-09-28 14:44:44  7159     1662   \n",
       "4  1045685265312837632 2018-09-28 14:42:49  6137     1656   \n",
       "\n",
       "                                                text               source  \n",
       "0  Looking forward to interacting with BJP Karyak...  Twitter for Android  \n",
       "1  At 10 AM this morning, I will inaugurate the '...  Twitter for Android  \n",
       "2  At Jodhpur's Konark War Memorial, paid homage ...   Twitter Web Client  \n",
       "3  Today in Jodhpur, I attended the Combined Comm...   Twitter Web Client  \n",
       "4  This video makes me happy- because of the stup...   Twitter Web Client  "
      ]
     },
     "execution_count": 30,
     "metadata": {},
     "output_type": "execute_result"
    }
   ],
   "source": [
    "tweets.head()"
   ]
  },
  {
   "cell_type": "code",
   "execution_count": 25,
   "metadata": {},
   "outputs": [
    {
     "data": {
      "text/plain": [
       "0    2018-09-29 03:45:21\n",
       "1    2018-09-29 03:41:45\n",
       "2    2018-09-28 14:46:59\n",
       "3    2018-09-28 14:44:44\n",
       "4    2018-09-28 14:42:49\n",
       "Name: created_at, dtype: object"
      ]
     },
     "execution_count": 25,
     "metadata": {},
     "output_type": "execute_result"
    }
   ],
   "source": [
    "tweets['created_at'] = tweets['created_at'].astype(str)\n",
    "tweets['created_at'].head()"
   ]
  },
  {
   "cell_type": "code",
   "execution_count": 26,
   "metadata": {},
   "outputs": [
    {
     "data": {
      "text/plain": [
       "0   2018-09-29 03:45:21\n",
       "1   2018-09-29 03:41:45\n",
       "2   2018-09-28 14:46:59\n",
       "3   2018-09-28 14:44:44\n",
       "4   2018-09-28 14:42:49\n",
       "Name: created_at, dtype: datetime64[ns]"
      ]
     },
     "execution_count": 26,
     "metadata": {},
     "output_type": "execute_result"
    }
   ],
   "source": [
    "tweets['created_at'] = pd.to_datetime(tweets['created_at'],\n",
    "                                      format='%Y-%m-%d %H:%M:%S')\n",
    "tweets['created_at'].head()"
   ]
  },
  {
   "cell_type": "code",
   "execution_count": 28,
   "metadata": {},
   "outputs": [
    {
     "data": {
      "text/plain": [
       "(Timestamp('2018-09-20 13:59:31'), Timestamp('2018-09-29 03:45:21'))"
      ]
     },
     "execution_count": 28,
     "metadata": {},
     "output_type": "execute_result"
    }
   ],
   "source": [
    "tweets['created_at'].min(), tweets['created_at'].max() "
   ]
  },
  {
   "cell_type": "code",
   "execution_count": 32,
   "metadata": {},
   "outputs": [],
   "source": [
    "tweets.index = tweets['created_at']\n",
    "#tweets.head()"
   ]
  },
  {
   "cell_type": "code",
   "execution_count": 54,
   "metadata": {},
   "outputs": [
    {
     "data": {
      "text/plain": [
       "<matplotlib.axes._subplots.AxesSubplot at 0x11ac051d0>"
      ]
     },
     "execution_count": 54,
     "metadata": {},
     "output_type": "execute_result"
    },
    {
     "data": {
      "image/png": "[encoded data removed]",
      "text/plain": [
       "<Figure size 432x288 with 1 Axes>"
      ]
     },
     "metadata": {},
     "output_type": "display_data"
    }
   ],
   "source": [
    "%matplotlib inline\n",
    "tweets.resample('1D')['id'].count().plot.line()"
   ]
  },
  {
   "cell_type": "code",
   "execution_count": 56,
   "metadata": {},
   "outputs": [],
   "source": [
    "tweets.to_csv('modi_tweets.csv', index=False)"
   ]
  },
  {
   "cell_type": "code",
   "execution_count": 59,
   "metadata": {},
   "outputs": [
    {
     "data": {
      "text/plain": [
       "'/Users/skathirmani/Documents/jupyter-notebooks/python'"
      ]
     },
     "execution_count": 59,
     "metadata": {},
     "output_type": "execute_result"
    }
   ],
   "source": [
    "os.getcwd()"
   ]
  },
  {
   "cell_type": "markdown",
   "metadata": {},
   "source": [
    "### Text Analysis"
   ]
  },
  {
   "cell_type": "markdown",
   "metadata": {},
   "source": [
    "![modi](modi-wordcloud.png)"
   ]
  },
  {
   "cell_type": "markdown",
   "metadata": {},
   "source": [
    "## Search tweets from a hashtag"
   ]
  },
  {
   "cell_type": "code",
   "execution_count": 55,
   "metadata": {},
   "outputs": [
    {
     "data": {
      "text/plain": [
       "90"
      ]
     },
     "execution_count": 55,
     "metadata": {},
     "output_type": "execute_result"
    }
   ],
   "source": [
    "tweets_datascience = api.search('#olacabs', count=500)\n",
    "len(tweets_datascience)"
   ]
  },
  {
   "cell_type": "markdown",
   "metadata": {},
   "source": [
    "## Convert tweets to data frame"
   ]
  },
  {
   "cell_type": "code",
   "execution_count": 27,
   "metadata": {},
   "outputs": [
    {
     "data": {
      "text/html": [
       "<div>\n",
       "<style scoped>\n",
       "    .dataframe tbody tr th:only-of-type {\n",
       "        vertical-align: middle;\n",
       "    }\n",
       "\n",
       "    .dataframe tbody tr th {\n",
       "        vertical-align: top;\n",
       "    }\n",
       "\n",
       "    .dataframe thead th {\n",
       "        text-align: right;\n",
       "    }\n",
       "</style>\n",
       "<table border=\"1\" class=\"dataframe\">\n",
       "  <thead>\n",
       "    <tr style=\"text-align: right;\">\n",
       "      <th></th>\n",
       "      <th>text</th>\n",
       "      <th>retweets</th>\n",
       "      <th>likes</th>\n",
       "      <th>user</th>\n",
       "      <th>screen_name</th>\n",
       "      <th>date</th>\n",
       "    </tr>\n",
       "  </thead>\n",
       "  <tbody>\n",
       "    <tr>\n",
       "      <th>0</th>\n",
       "      <td>RT @MikeQuindazzi: 4 layers of a #DigitalTrans...</td>\n",
       "      <td>26</td>\n",
       "      <td>0</td>\n",
       "      <td>Grace Churchill</td>\n",
       "      <td>IoTBigData</td>\n",
       "      <td>2018-07-30 18:19:40</td>\n",
       "    </tr>\n",
       "    <tr>\n",
       "      <th>1</th>\n",
       "      <td>No-U-Turn sampler https://t.co/pdB1vXoVau #dat...</td>\n",
       "      <td>0</td>\n",
       "      <td>0</td>\n",
       "      <td>Amit Kothiyal🇮🇳</td>\n",
       "      <td>tisamit</td>\n",
       "      <td>2018-07-30 18:19:30</td>\n",
       "    </tr>\n",
       "    <tr>\n",
       "      <th>2</th>\n",
       "      <td>RT @FrRonconi: #AI in the Factory of the #Futu...</td>\n",
       "      <td>4</td>\n",
       "      <td>0</td>\n",
       "      <td>LuckyTech</td>\n",
       "      <td>Lucky62058333</td>\n",
       "      <td>2018-07-30 18:19:27</td>\n",
       "    </tr>\n",
       "    <tr>\n",
       "      <th>3</th>\n",
       "      <td>RT @R_Demidchuk: Plataformas #IoT: escenario a...</td>\n",
       "      <td>7</td>\n",
       "      <td>0</td>\n",
       "      <td>Network Outsight</td>\n",
       "      <td>NetworkOutsight</td>\n",
       "      <td>2018-07-30 18:19:25</td>\n",
       "    </tr>\n",
       "    <tr>\n",
       "      <th>4</th>\n",
       "      <td>RT @KirkDBorne: HT @DeepLearn007 :\\n#AI in the...</td>\n",
       "      <td>60</td>\n",
       "      <td>0</td>\n",
       "      <td>Rui Adam</td>\n",
       "      <td>Rui_Adam1</td>\n",
       "      <td>2018-07-30 18:19:12</td>\n",
       "    </tr>\n",
       "  </tbody>\n",
       "</table>\n",
       "</div>"
      ],
      "text/plain": [
       "                                                text retweets likes  \\\n",
       "0  RT @MikeQuindazzi: 4 layers of a #DigitalTrans...       26     0   \n",
       "1  No-U-Turn sampler https://t.co/pdB1vXoVau #dat...        0     0   \n",
       "2  RT @FrRonconi: #AI in the Factory of the #Futu...        4     0   \n",
       "3  RT @R_Demidchuk: Plataformas #IoT: escenario a...        7     0   \n",
       "4  RT @KirkDBorne: HT @DeepLearn007 :\\n#AI in the...       60     0   \n",
       "\n",
       "               user      screen_name                date  \n",
       "0   Grace Churchill       IoTBigData 2018-07-30 18:19:40  \n",
       "1   Amit Kothiyal🇮🇳          tisamit 2018-07-30 18:19:30  \n",
       "2         LuckyTech    Lucky62058333 2018-07-30 18:19:27  \n",
       "3  Network Outsight  NetworkOutsight 2018-07-30 18:19:25  \n",
       "4          Rui Adam        Rui_Adam1 2018-07-30 18:19:12  "
      ]
     },
     "execution_count": 27,
     "metadata": {},
     "output_type": "execute_result"
    }
   ],
   "source": [
    "tweets_df = pd.DataFrame(columns=['text', 'retweets', 'likes', 'user', 'screen_name'])\n",
    "for tweet in list(tweets_datascience):\n",
    "    tweet_series = pd.Series({'text': tweet.text, 'date': tweet.created_at,\n",
    "                          'retweets': tweet.retweet_count,\n",
    "                          'likes': tweet.favorite_count,\n",
    "                          'user': tweet.user.name,\n",
    "                          'screen_name': tweet.user.screen_name})\n",
    "    tweets_df = tweets_df.append(tweet_series, ignore_index=True)\n",
    "tweets_df.head()"
   ]
  }
 ],
 "metadata": {
  "kernelspec": {
   "display_name": "Python 3",
   "language": "python",
   "name": "python3"
  },
  "language_info": {
   "codemirror_mode": {
    "name": "ipython",
    "version": 3
   },
   "file_extension": ".py",
   "mimetype": "text/x-python",
   "name": "python",
   "nbconvert_exporter": "python",
   "pygments_lexer": "ipython3",
   "version": "3.6.5"
  }
 },
 "nbformat": 4,
 "nbformat_minor": 2
}
